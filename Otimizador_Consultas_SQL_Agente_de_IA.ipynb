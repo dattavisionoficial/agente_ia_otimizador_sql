{
  "nbformat": 4,
  "nbformat_minor": 0,
  "metadata": {
    "colab": {
      "provenance": []
    },
    "kernelspec": {
      "name": "python3",
      "display_name": "Python 3"
    },
    "language_info": {
      "name": "python"
    }
  },
  "cells": [
    {
      "cell_type": "code",
      "source": [
        "%pip -q install google-genai"
      ],
      "metadata": {
        "id": "UCCbECexLk_h"
      },
      "execution_count": 28,
      "outputs": []
    },
    {
      "cell_type": "code",
      "source": [
        "# Configura a API Key do Google Gemini\n",
        "\n",
        "import os\n",
        "from google.colab import userdata\n",
        "\n",
        "os.environ[\"GOOGLE_API_KEY\"] = userdata.get('GOOGLE_API_KEY')"
      ],
      "metadata": {
        "id": "NfCqHo1tLk8P"
      },
      "execution_count": 29,
      "outputs": []
    },
    {
      "cell_type": "code",
      "source": [
        "# Configura o cliente da SDK do Gemini\n",
        "\n",
        "from google import genai\n",
        "\n",
        "client = genai.Client()\n",
        "\n",
        "MODEL_ID = \"gemini-2.0-flash\""
      ],
      "metadata": {
        "id": "bV4w0H5TLk5g"
      },
      "execution_count": 30,
      "outputs": []
    },
    {
      "cell_type": "code",
      "source": [
        "# Instalar Framework de agentes do Google ################################################\n",
        "!pip install -q google-adk"
      ],
      "metadata": {
        "id": "a1eRPalxEnj7"
      },
      "execution_count": 31,
      "outputs": []
    },
    {
      "cell_type": "code",
      "execution_count": 32,
      "metadata": {
        "id": "aePV2bdfDeoW"
      },
      "outputs": [],
      "source": [
        "from google.adk.agents import Agent\n",
        "from google.adk.runners import Runner\n",
        "from google.adk.sessions import InMemorySessionService\n",
        "from google.adk.tools import google_search\n",
        "from google.genai import types  # Para criar conteúdos (Content e Part)\n",
        "from datetime import date\n",
        "import textwrap # Para formatar melhor a saída de texto\n",
        "from IPython.display import display, Markdown # Para exibir texto formatado no Colab\n",
        "import requests # Para fazer requisições HTTP\n",
        "import warnings\n",
        "\n",
        "warnings.filterwarnings(\"ignore\")"
      ]
    },
    {
      "cell_type": "code",
      "source": [
        "# Função auxiliar que envia uma mensagem para um agente via Runner e retorna a resposta final\n",
        "def call_agent(agent: Agent, message_text: str) -> str:\n",
        "    # Cria um serviço de sessão em memória\n",
        "    session_service = InMemorySessionService()\n",
        "    # Cria uma nova sessão (você pode personalizar os IDs conforme necessário)\n",
        "    session = session_service.create_session(app_name=agent.name, user_id=\"user1\", session_id=\"session1\")\n",
        "    # Cria um Runner para o agente\n",
        "    runner = Runner(agent=agent, app_name=agent.name, session_service=session_service)\n",
        "    # Cria o conteúdo da mensagem de entrada\n",
        "    content = types.Content(role=\"user\", parts=[types.Part(text=message_text)])\n",
        "\n",
        "    final_response = \"\"\n",
        "    # Itera assincronamente pelos eventos retornados durante a execução do agente\n",
        "    for event in runner.run(user_id=\"user1\", session_id=\"session1\", new_message=content):\n",
        "        if event.is_final_response():\n",
        "          for part in event.content.parts:\n",
        "            if part.text is not None:\n",
        "              final_response += part.text\n",
        "              final_response += \"\\n\"\n",
        "    return final_response"
      ],
      "metadata": {
        "id": "_xP4lWhsS5ko"
      },
      "execution_count": 33,
      "outputs": []
    },
    {
      "cell_type": "code",
      "source": [
        "# Função auxiliar para exibir texto formatado em Markdown no Colab\n",
        "def to_markdown(text):\n",
        "  text = text.replace('•', '  *')\n",
        "  return Markdown(textwrap.indent(text, '> ', predicate=lambda _: True))"
      ],
      "metadata": {
        "id": "8dosiodaxfFR"
      },
      "execution_count": 34,
      "outputs": []
    },
    {
      "cell_type": "code",
      "source": [
        "##########################################\n",
        "# --- Agente 1: Buscador de Otimização --- #\n",
        "##########################################\n",
        "def agente_buscador(topico, data_de_hoje):\n",
        "\n",
        "    buscador = Agent(\n",
        "    name=\"agente_buscador\",\n",
        "    model=\"gemini-2.0-flash\",\n",
        "    instruction=\"\"\"\n",
        "    Você é um DBA com mais de 10 anos de experiência. Sua tarefa é usar a ferramenta de busca do Google (google_search) para entender, analisar\n",
        "    e sugerir melhorias específicas no banco de dados, tabelas e consultas SQL com base em uma análise do plano de execução da consulta. Foque nas melhores práticas\n",
        "    de arquitetura de dados e banco de dados, como indexação, particionamento e otimização de queries.\n",
        "\n",
        "    Com base em sua análise, recupere no máximo 10 tópicos relevantes que discutam soluções e abordagens para os problemas identificados no plano de execução.\n",
        "    As informações relevantes devem ter no máximo 1 ano a partir da data de hoje.\n",
        "    \"\"\",\n",
        "    description=\"Agente que busca informações no Google sobre otimização de consultas SQL\",\n",
        "    tools=[google_search]\n",
        ")\n",
        "\n",
        "    entrada_do_agente_buscador = f\"Tópico: {topico}\\nData de hoje: {data_de_hoje}\"\n",
        "\n",
        "    lancamentos = call_agent(buscador, entrada_do_agente_buscador)\n",
        "    return lancamentos"
      ],
      "metadata": {
        "id": "o8bqIfi_DyH8"
      },
      "execution_count": 35,
      "outputs": []
    },
    {
      "cell_type": "code",
      "source": [
        "################################################\n",
        "# --- Agente 2: Planejador de Otimização --- #\n",
        "################################################\n",
        "def agente_planejador(topico, lancamentos_buscados):\n",
        "    planejador = Agent(\n",
        "    name=\"agente_planejador\",\n",
        "    model=\"gemini-2.0-flash\",\n",
        "    instruction=\"\"\"\n",
        "    Você é um arquiteto de dados especialista em bancos de dados relacionais. Com base nos tópicos relevantes identificados pelo agente buscador,\n",
        "    sua tarefa é usar a ferramenta de busca do Google (google_search) para sugerir melhorias relevantes na estrutura do banco de dados e das tabelas.\n",
        "    Caso necessário, você também pode usar o Google (google_search) para se aprofundar nas sugestões encontradas.\n",
        "\n",
        "    Ao final, você irá escolher as cinco melhores sugestões de otimização, apontando claramente as vantagens e desvantagens (se houver) de cada uma,\n",
        "    bem como os scripts SQL necessários para implementar tais otimizações.\n",
        "    \"\"\",\n",
        "    description=\"Agente que planeja as otimizações\",\n",
        "    tools=[google_search]\n",
        ")\n",
        "\n",
        "    entrada_do_agente_planejador = f\"Tópico:{topico}\\nLançamentos buscados: {lancamentos_buscados}\"\n",
        "    # Executa o agente\n",
        "    plano_de_otimizacao = call_agent(planejador, entrada_do_agente_planejador)\n",
        "    return plano_de_otimizacao"
      ],
      "metadata": {
        "id": "y3VO1uo5_ghO"
      },
      "execution_count": 36,
      "outputs": []
    },
    {
      "cell_type": "code",
      "source": [
        "######################################\n",
        "# --- Agente 3: Redator de Otimização --- #\n",
        "######################################\n",
        "def agente_redator(topico, plano_de_post):\n",
        "    redator = Agent(\n",
        "    name=\"agente_validador\",\n",
        "    model=\"gemini-2.0-flash\",\n",
        "    instruction=\"\"\"\n",
        "    Você é um DBA do Google com experiência em consultoria de otimização para grandes empresas como Meta e Amazon.\n",
        "    Com base nas sugestões de otimização fornecidas pelo agente planejador, sua tarefa é escrever um parecer técnico detalhado.\n",
        "    Seja extremamente profissional e analítico, apontando precisamente quaisquer erros conceituais, inconsistências ou scripts SQL incorretos nas propostas.\n",
        "    O parecer deve apresentar uma avaliação clara e objetiva sobre a viabilidade e o potencial impacto das otimizações sugeridas.\n",
        "            \"\"\",\n",
        "    description=\"Agente que valida tecnicamente as otimizações propostas.\"\n",
        ")\n",
        "    entrada_do_agente_redator = f\"Tópico: {topico}\\nPlano de post: {plano_de_post}\"\n",
        "    # Executa o agente\n",
        "    rascunho = call_agent(redator, entrada_do_agente_redator)\n",
        "    return rascunho"
      ],
      "metadata": {
        "id": "uOqlg2TRLVh1"
      },
      "execution_count": 37,
      "outputs": []
    },
    {
      "cell_type": "code",
      "source": [
        "##########################################\n",
        "# --- Agente 4: Revisor de Qualidade --- #\n",
        "##########################################\n",
        "def agente_revisor(topico, rascunho_gerado):\n",
        "    revisor = Agent(\n",
        "    name=\"agente_revisor\",\n",
        "    model=\"gemini-2.0-flash\",\n",
        "    instruction=\"\"\"\n",
        "            Você é um DBA experiente, com um histórico de testes rigorosos de otimizações de banco de dados antes da implementação em produção.\n",
        "            Sua tarefa é revisar as sugestões de otimização propostas (estrutura do banco de dados e tabelas) para garantir que realmente melhorem a performance geral do sistema e não introduzam efeitos colaterais negativos.\n",
        "\n",
        "            Analise o rascunho de otimização, verificando:\n",
        "            - Se a lógica das otimizações é sólida e aderente às melhores práticas.\n",
        "            - Se os scripts SQL estão sintaticamente corretos e seguros para execução em um ambiente de teste.\n",
        "            - Se há considerações sobre o impacto em outras partes do sistema ou em cenários de alta carga.\n",
        "\n",
        "            Caso a análise seja positiva e os scripts realmente impactem positivamente na performance, responda apenas 'Scripts realmente impactam positivamente na performance'.\n",
        "            Caso contrário, aponte os problemas encontrados e sugira as melhorias necessárias para garantir a eficácia e a segurança das otimizações.\n",
        "                    \"\"\",\n",
        "    description=\"Agente revisor de otimizações com foco em testes e impacto em produção.\"\n",
        ")\n",
        "    entrada_do_agente_revisor = f\"Tópico: {topico}\\nRascunho: {rascunho_gerado}\"\n",
        "    # Executa o agente\n",
        "    texto_revisado = call_agent(revisor, entrada_do_agente_revisor)\n",
        "    return texto_revisado"
      ],
      "metadata": {
        "id": "_aTb1SdkLeT6"
      },
      "execution_count": 38,
      "outputs": []
    },
    {
      "cell_type": "code",
      "source": [
        "data_de_hoje = date.today().strftime(\"%d/%m/%Y\")\n",
        "\n",
        "print(\"🚀 Iniciando o Sistema de Otimização de consultas SQL\")\n",
        "\n",
        "# --- Obter o Tópico do Usuário ---\n",
        "topico = input(\"Por favor, cole o plano de execução completo de sua consulta SQL: \")\n",
        "\n",
        "# Inserir lógica do sistema de agentes ################################################\n",
        "if not topico:\n",
        "    print(\"Você esqueceu de digitar o tópico!\")\n",
        "else:\n",
        "    print(\"Maravilha! Vamos analisar e otimizar sua consulta SQL\")\n",
        "\n",
        "    lancamentos_buscados = agente_buscador(topico, data_de_hoje)\n",
        "    print(\"\\n--- 📝 Resultado do Agente 1 (Buscador) ---\\n\")\n",
        "    display(to_markdown(lancamentos_buscados))\n",
        "    print(\"--------------------------------------------------------------\")\n",
        "\n",
        "    plano_de_post = agente_planejador(topico, lancamentos_buscados)\n",
        "    print(\"\\n--- 📝 Resultado do Agente 2 (Planejador) ---\\n\")\n",
        "    display(to_markdown(plano_de_post))\n",
        "    print(\"--------------------------------------------------------------\")\n",
        "\n",
        "    rascunho_de_post = agente_redator(topico, plano_de_post)\n",
        "    print(\"\\n--- 📝 Resultado do Agente 3 (Redator) ---\\n\")\n",
        "    display(to_markdown(rascunho_de_post))\n",
        "    print(\"--------------------------------------------------------------\")\n",
        "\n",
        "    post_final = agente_revisor(topico, rascunho_de_post)\n",
        "    print(\"\\n--- 📝 Resultado do Agente 4 (Revisor) ---\\n\")\n",
        "    display(to_markdown(post_final))\n",
        "    print(\"--------------------------------------------------------------\")"
      ],
      "metadata": {
        "colab": {
          "base_uri": "https://localhost:8080/",
          "height": 1000
        },
        "id": "6xzI6LKzxxnN",
        "outputId": "e5c1acfa-cd23-4207-f6c3-02d87cef3f4b"
      },
      "execution_count": 39,
      "outputs": [
        {
          "output_type": "stream",
          "name": "stdout",
          "text": [
            "🚀 Iniciando o Sistema de Otimização de consultas SQL\n",
            "Por favor, cole o plano de execução completo de sua consulta SQL: \"Hash Join  (cost=1.16..48311.18 rows=516557 width=606)\" \"  Hash Cond: (m.codigo_empresa = e.codigo_empresa)\" \"  ->  Seq Scan on movimentos m  (cost=0.00..41874.57 rows=1721857 width=78)\" \"  ->  Hash  (cost=1.12..1.12 rows=3 width=528)\" \"        ->  Seq Scan on empresa e  (cost=0.00..1.12 rows=3 width=528)\" \"              Filter: (codigo_empresa > 1)\"\n",
            "Maravilha! Vamos analisar e otimizar sua consulta SQL\n",
            "\n",
            "--- 📝 Resultado do Agente 1 (Buscador) ---\n",
            "\n"
          ]
        },
        {
          "output_type": "display_data",
          "data": {
            "text/plain": [
              "<IPython.core.display.Markdown object>"
            ],
            "text/markdown": "> Com base no plano de execução que você forneceu, parece que a junção Hash Join está sendo utilizada para combinar as tabelas `movimentos` (m) e `empresa` (e) na condição `m.codigo_empresa = e.codigo_empresa`. O plano também indica um `Seq Scan` (leitura sequencial) nas duas tabelas. Além disso, existe um filtro `(codigo_empresa > 1)` aplicado na tabela `empresa`.\n> \n> A seguir, apresento algumas sugestões de melhorias e tópicos relevantes para pesquisa, considerando que você deseja focar em melhores práticas e otimizações:\n> \n> 1.  **Indexação na coluna `codigo_empresa` da tabela `movimentos`**: A ausência de um índice na coluna `codigo_empresa` da tabela `movimentos` faz com que o otimizador escolha um `Seq Scan`. A criação de um índice pode permitir que o otimizador utilize um `Index Scan` ou `Index Seek`, o que pode ser mais eficiente, especialmente se a tabela `movimentos` for grande.\n> 2.  **Análise da cardinalidade da tabela `empresa`**: O plano de execução mostra que o otimizador espera apenas 3 linhas da tabela `empresa` após o filtro `codigo_empresa > 1`. Se este número for consistentemente baixo, a escolha do `Hash Join` pode ser apropriada. No entanto, se a cardinalidade for frequentemente maior, outras estratégias de junção, como `Merge Join` ou `Nested Loop Join` (com índices apropriados), podem ser mais eficientes.\n> 3.  **Estatísticas atualizadas**: Certifique-se de que as estatísticas das tabelas `movimentos` e `empresa` estão atualizadas. Estatísticas desatualizadas podem levar o otimizador a tomar decisões subótimas sobre o plano de execução. Utilize o comando `ANALYZE` no PostgreSQL para atualizar as estatísticas.\n> 4.  **Particionamento da tabela `movimentos`**: Se a tabela `movimentos` for muito grande, considere o particionamento da tabela. O particionamento pode melhorar o desempenho das consultas, permitindo que o otimizador processe apenas as partições relevantes.\n> 5.  **Revisão do filtro `codigo_empresa > 1`**: Avalie a necessidade e o impacto do filtro `codigo_empresa > 1` na tabela `empresa`. Se este filtro for muito restritivo, pode ser mais eficiente movê-lo para a aplicação ou ajustar a consulta para evitar a leitura completa da tabela `empresa`.\n> 6.  **Teste com diferentes tipos de JOIN**: Forçar o uso de outros tipos de JOIN, como o `Merge Join` ou `Nested Loop Join`, pode ajudar a identificar se o `Hash Join` é realmente a melhor opção. Utilize o comando `SET enable_hashjoin = off;` para desabilitar temporariamente o `Hash Join` e compare o desempenho.\n> 7.  **Otimização da consulta SQL**: Reavalie a consulta SQL completa para identificar possíveis gargalos ou áreas de melhoria. Simplificar a consulta, evitar funções em colunas indexadas e utilizar `EXISTS` em vez de `IN` (se aplicável) podem melhorar o desempenho.\n> 8.  **Análise do uso de memória**: O `Hash Join` pode ser intensivo em memória. Monitore o uso de memória do banco de dados para garantir que haja memória suficiente para executar a junção de forma eficiente. Ajuste as configurações de memória do PostgreSQL, se necessário.\n> 9.  **Considerar o uso de BLOOM Filter**: Em alguns casos, pode ser útil considerar a utilização de BLOOM Filter para otimizar a performance da consulta.\n> 10. **Avaliar a possibilidade de usar a extensão pg_partman**: Para facilitar o particionamento, pode ser interessante avaliar o uso da extensão pg\\_partman.\n> \n> Para complementar a análise e buscar soluções específicas, sugiro pesquisar os seguintes tópicos:\n> \n> \n> Com base nas informações encontradas, aqui estão algumas sugestões de melhorias e tópicos relevantes para pesquisa, considerando as melhores práticas e otimizações:\n> \n> 1.  **Indexação na coluna `codigo_empresa` da tabela `movimentos`**: A criação de um índice nessa coluna pode permitir o uso de `Index Scan` ou `Index Seek`, mais eficientes que `Seq Scan`.\n> 2.  **Análise da cardinalidade da tabela `empresa`**: Se a cardinalidade for baixa, `Hash Join` é adequado; se alta, `Merge Join` ou `Nested Loop Join` podem ser melhores.\n> 3.  **Estatísticas atualizadas**: Utilize `ANALYZE` para garantir que o otimizador tome decisões corretas.\n> 4.  **Particionamento da tabela `movimentos`**: Se a tabela for grande, o particionamento pode melhorar o desempenho.\n> 5.  **Revisão do filtro `codigo_empresa > 1`**: Avalie a necessidade e o impacto desse filtro.\n> 6.  **Teste com diferentes tipos de JOIN**: Desabilite temporariamente o `Hash Join` para comparar o desempenho com outros tipos.\n> 7.  **Otimização da consulta SQL**: Simplifique a consulta e evite funções em colunas indexadas.\n> 8.  **Análise do uso de memória**: Monitore o uso de memória do banco de dados.\n> 9.  **Considerar o uso de BLOOM Filter**: Em alguns casos, pode ser útil considerar a utilização de BLOOM Filter para otimizar a performance da consulta.\n> 10. **Avaliar a possibilidade de usar a extensão pg\\_partman**: Para facilitar o particionamento, pode ser interessante avaliar o uso da extensão pg\\_partman.\n> \n> Para complementar a análise e buscar soluções específicas, sugiro pesquisar os seguintes tópicos:\n> \n> *   **Índices**: Criar índices nas colunas usadas em condições de join e WHERE.\n> *   **Estatísticas**: Manter estatísticas atualizadas para que o otimizador possa tomar decisões mais inteligentes.\n> *   **Particionamento**: Dividir tabelas grandes em partes menores e mais gerenciáveis.\n> *   **Otimização de Query**: Reescrever queries complexas, utilizando JOINs em vez de subqueries sempre que possível.\n> *   **Configuração de memória**: Ajustar parâmetros como `work_mem` para melhorar o desempenho do Hash Join.\n> *   **Tipos de JOIN**: Avaliar diferentes tipos de JOIN para determinar qual é o mais eficiente para a consulta.\n> *   **EXISTS vs IN**: Considerar o uso de `EXISTS` em vez de `IN` em alguns casos.\n> *   **BLOOM Filter**: Utilizar BLOOM Filter para otimizar a performance da consulta.\n> *   **pg\\_partman**: Avaliar o uso da extensão pg\\_partman para facilitar o particionamento.\n> *   **Sequential Scan**: Otimizar o desempenho do sequential scan.\n> *   **Otimização Barriers**: Forçar a ordem do JOIN.\n> *   **MERGE**: Condicionalmente inserir, atualizar ou deletar linhas.\n> \n> Lembre-se de que a otimização do desempenho do banco de dados é um processo contínuo. Monitore o desempenho das consultas, ajuste as configurações e reavalie as estratégias conforme necessário..\n"
          },
          "metadata": {}
        },
        {
          "output_type": "stream",
          "name": "stdout",
          "text": [
            "--------------------------------------------------------------\n",
            "\n",
            "--- 📝 Resultado do Agente 2 (Planejador) ---\n",
            "\n"
          ]
        },
        {
          "output_type": "display_data",
          "data": {
            "text/plain": [
              "<IPython.core.display.Markdown object>"
            ],
            "text/markdown": "> Para otimizar o desempenho do banco de dados com base no plano de execução fornecido e nas sugestões apresentadas, selecionei as cinco melhores otimizações com suas vantagens, desvantagens e scripts SQL para implementação.\n> \n> \n> Com base nas informações encontradas, aqui estão as cinco melhores otimizações:\n> \n> ### 1. Criação de Índice na Coluna `codigo_empresa` da Tabela `movimentos`\n> **Vantagens:**\n> \n> *   **Melhoria na velocidade de consulta:** Permite que o otimizador utilize `Index Scan` ou `Index Seek` em vez de `Seq Scan`, o que é mais eficiente para tabelas grandes.\n> *   **Redução do tempo de resposta:** A busca por registros específicos se torna mais rápida.\n> \n> **Desvantagens:**\n> \n> *   **Sobrecarga em operações de escrita:** Inserções, atualizações e exclusões podem se tornar mais lentas, pois o índice também precisa ser atualizado.\n> *   **Consumo de espaço:** Índices aumentam o espaço de armazenamento do banco de dados.\n> \n> **Script SQL:**\n> \n> \n> ```sql\n> CREATE INDEX idx_movimentos_codigo_empresa ON movimentos (codigo_empresa);\n> ```\n> \n> \n> ### 2. Atualização de Estatísticas das Tabelas `movimentos` e `empresa`\n> **Vantagens:**\n> \n> *   **Planos de execução mais eficientes:** Garante que o otimizador tenha informações precisas sobre a distribuição dos dados, levando a melhores decisões de plano de execução.\n> *   **Melhora geral no desempenho:** O otimizador pode escolher a melhor estratégia de JOIN e outros operadores.\n> \n> **Desvantagens:**\n> \n> *   **Necessidade de manutenção regular:** As estatísticas precisam ser atualizadas periodicamente, o que pode consumir recursos.\n> *   **Impacto temporário:** A atualização pode causar um breve impacto no desempenho durante a execução do comando `ANALYZE`.\n> \n> **Script SQL:**\n> \n> \n> ```sql\n> ANALYZE movimentos;\n> ANALYZE empresa;\n> ```\n> \n> \n> ### 3. Particionamento da Tabela `movimentos`\n> **Vantagens:**\n> \n> *   **Melhoria no desempenho de consultas:** Permite que o otimizador processe apenas as partições relevantes, reduzindo a quantidade de dados a serem lidos.\n> *   **Facilidade na manutenção:** Permite realizar backups, recuperação e manutenção de partições individuais.\n> *   **Gerenciamento de dados históricos:** Facilita a remoção de dados antigos, descartando partições inteiras.\n> \n> **Desvantagens:**\n> \n> *   **Complexidade na implementação:** Requer planejamento cuidadoso e pode aumentar a complexidade do esquema do banco de dados.\n> *   **Restrições:** Restrições de unicidade devem incluir todas as colunas de chave de partição.\n> \n> **Script SQL (Exemplo de particionamento por intervalo):**\n> \n> \n> ```sql\n> -- Criar a tabela principal particionada\n> CREATE TABLE movimentos (\n>     codigo_empresa INTEGER,\n>     data_movimento DATE,\n>     -- Outras colunas\n>     PRIMARY KEY (codigo_empresa, data_movimento)\n> ) PARTITION BY RANGE (data_movimento);\n> \n> -- Criar partições para cada mês\n> CREATE TABLE movimentos_202401 PARTITION OF movimentos\n> FOR VALUES FROM ('2024-01-01') TO ('2024-02-01');\n> \n> CREATE TABLE movimentos_202402 PARTITION OF movimentos\n> FOR VALUES FROM ('2024-02-01') TO ('2024-03-01');\n> \n> -- Criar outras partições conforme necessário\n> ```\n> \n> \n> ### 4. Teste com Diferentes Tipos de JOIN (Desabilitando Hash Join Temporariamente)\n> **Vantagens:**\n> \n> *   **Identificação da melhor estratégia de JOIN:** Permite comparar o desempenho do `Hash Join` com outras opções, como `Merge Join` ou `Nested Loop Join`.\n> *   **Oportunidade de otimização:** Revela se o `Hash Join` é realmente a melhor opção para a consulta específica.\n> \n> **Desvantagens:**\n> \n> *   **Impacto no desempenho:** Desabilitar o `Hash Join` pode levar a planos de execução piores se ele for a melhor opção.\n> *   **Necessidade de monitoramento:** É importante monitorar o desempenho das consultas após desabilitar o `Hash Join`.\n> \n> **Script SQL:**\n> \n> \n> ```sql\n> -- Desabilitar o Hash Join para a sessão atual\n> SET enable_hashjoin = off;\n> \n> -- Executar a consulta\n> EXPLAIN ANALYZE sua_consulta_sql;\n> \n> -- Reabilitar o Hash Join\n> SET enable_hashjoin = on;\n> ```\n> \n> \n> ### 5. Utilização de BLOOM Filter\n> **Vantagens:**\n> \n> *   **Otimização de buscas:** Permite exclusão rápida de tuplas não correspondentes através de assinaturas, com tamanho determinado na criação do índice.\n> *   **Eficiência em buscas exatas:** Útil para buscas exatas em grandes conjuntos de dados, reduzindo o escopo da busca antes de executar uma varredura tradicional.\n> \n> **Desvantagens:**\n> \n> *   **Falsos positivos:** Possibilidade de falsos positivos, que dependem do tamanho do filtro e do número de funções hash utilizadas.\n> *   **Espaço de armazenamento:** Pode ocupar mais espaço que outros índices, dependendo da configuração.\n> \n> **Script SQL:**\n> \n> \n> ```sql\n> -- Criar extensão bloom (se ainda não existir)\n> CREATE EXTENSION IF NOT EXISTS bloom;\n> \n> -- Criar índice bloom\n> CREATE INDEX idx_movimentos_codigo_empresa_bloom ON movimentos\n> USING bloom (codigo_empresa) WITH (length=40);\n> ```\n> \n> \n> **Considerações adicionais:**\n> \n> *   **Monitoramento Contínuo:** A otimização de bancos de dados é um processo contínuo. Monitore o desempenho das consultas, ajuste as configurações e reavalie as estratégias conforme necessário.\n> *   **Testes em ambiente de homologação:** Sempre teste as mudanças em um ambiente de homologação antes de aplicar em produção.\n> *   **Documentação:** Documente todas as mudanças e otimizações realizadas no banco de dados.\n> \n> Ao implementar essas otimizações, você poderá melhorar significativamente o desempenho do seu banco de dados PostgreSQL.\n> \n"
          },
          "metadata": {}
        },
        {
          "output_type": "stream",
          "name": "stdout",
          "text": [
            "--------------------------------------------------------------\n",
            "\n",
            "--- 📝 Resultado do Agente 3 (Redator) ---\n",
            "\n"
          ]
        },
        {
          "output_type": "display_data",
          "data": {
            "text/plain": [
              "<IPython.core.display.Markdown object>"
            ],
            "text/markdown": "> ## Parecer Técnico sobre Otimizações Propostas para Plano de Execução\n> \n> **Assunto:** Análise e Validação de Otimizações Propostas para Plano de Execução de Consulta envolvendo as tabelas `movimentos` e `empresa`.\n> \n> **Data:** 2024-07-26\n> \n> **Introdução:**\n> \n> Este parecer técnico tem como objetivo analisar criticamente as cinco otimizações propostas para o plano de execução fornecido, que demonstra um `Hash Join` entre as tabelas `movimentos` e `empresa` na condição `m.codigo_empresa = e.codigo_empresa`.  O objetivo é avaliar a viabilidade, o impacto potencial e a correção das sugestões apresentadas, identificando possíveis erros conceituais ou implementações inadequadas.\n> \n> **Análise Detalhada das Otimizações Propostas:**\n> \n> **1. Criação de Índice na Coluna `codigo_empresa` da Tabela `movimentos`**\n> \n> *   **Avaliação:** A criação de um índice na coluna `codigo_empresa` da tabela `movimentos` é uma otimização geralmente válida e recomendada, especialmente considerando que essa coluna é utilizada em uma condição de JOIN.  A proposta reconhece corretamente as vantagens (melhoria na velocidade de consulta) e as desvantagens (sobrecarga em escritas e consumo de espaço).\n> *   **Observações:**\n>     *   A escolha do tipo de índice (B-Tree, o padrão) é implícita, mas poderia ser explicitamente mencionada.  Em geral, B-Tree é adequado para a maioria dos casos, mas outros tipos de índice (como Hash, se o PostgreSQL suportasse índices Hash múltiplos na mesma tabela, ou GiST/GIN para tipos de dados específicos) poderiam ser considerados em cenários muito específicos.\n>     *   A cardinalidade da coluna `codigo_empresa` em `movimentos` é um fator crítico. Se houver poucos valores distintos, o índice pode não ser tão eficaz.\n> *   **Script SQL:** O script `CREATE INDEX idx_movimentos_codigo_empresa ON movimentos (codigo_empresa);` está correto e implementa a criação do índice.\n> \n> **2. Atualização de Estatísticas das Tabelas `movimentos` e `empresa`**\n> \n> *   **Avaliação:** Atualizar as estatísticas das tabelas é uma prática fundamental para garantir que o otimizador do PostgreSQL tome decisões informadas sobre o plano de execução. A proposta destaca corretamente a importância de estatísticas precisas e a necessidade de manutenção regular.\n> *   **Observações:**\n>     *   A frequência com que as estatísticas devem ser atualizadas depende da volatilidade dos dados. Tabelas com alta taxa de inserção/atualização/exclusão exigem atualizações mais frequentes.  Considerar a configuração do `autovacuum` é crucial para a manutenção automática das estatísticas.\n>     *   Para tabelas muito grandes, o `ANALYZE` pode consumir recursos significativos. A opção `ANALYZE tabela (coluna)` pode ser utilizada para atualizar estatísticas apenas das colunas relevantes.\n> *   **Script SQL:** Os scripts `ANALYZE movimentos;` e `ANALYZE empresa;` estão corretos e realizam a atualização das estatísticas.\n> \n> **3. Particionamento da Tabela `movimentos`**\n> \n> *   **Avaliação:** O particionamento da tabela `movimentos` pode ser uma otimização poderosa, especialmente se houver padrões claros nos dados (por exemplo, por data) que permitam que o otimizador elimine partições inteiras durante a execução das consultas. A proposta identifica corretamente as vantagens e desvantagens do particionamento.\n> *   **Observações:**\n>     *   O exemplo fornecido utiliza particionamento por `RANGE` na coluna `data_movimento`. Isso é um bom ponto de partida, mas a escolha da coluna de particionamento deve ser baseada nos padrões de consulta predominantes.\n>     *   A chave primária deve *sempre* incluir a coluna de particionamento, o que foi corretamente mencionado.\n>     *   É crucial considerar o impacto do particionamento nas consultas existentes. Algumas consultas podem precisar ser reescritas para tirar proveito das partições.\n>     *   A manutenção das partições (criação de novas, remoção de antigas) deve ser automatizada.\n> *   **Script SQL:** O script SQL fornecido está correto como um exemplo básico de criação de partições por intervalo. No entanto, é incompleto e requer a definição das demais colunas da tabela e um planejamento cuidadoso das partições.\n> \n> **4. Teste com Diferentes Tipos de JOIN (Desabilitando Hash Join Temporariamente)**\n> \n> *   **Avaliação:** A ideia de testar diferentes tipos de JOIN é válida para identificar se o `Hash Join` é realmente a melhor opção para a consulta específica. No entanto, a forma como a proposta sugere implementar isso é problemática.\n> *   **Observações:**\n>     *   **Erro Conceitual Grave:** Desabilitar o `Hash Join` *globalmente* (com `SET enable_hashjoin = off;`) é uma prática extremamente perigosa em um ambiente de produção.  Afeta *todas* as consultas executadas na sessão e pode levar a degradação significativa do desempenho de outras partes do sistema.\n>     *   A forma correta de testar diferentes tipos de JOIN é usar *hints* específicos na consulta que você deseja otimizar, e não alterar configurações globais da sessão.\n>     *   O uso de `EXPLAIN ANALYZE` é correto para analisar o plano de execução e o tempo de execução da consulta.\n> *   **Script SQL:** O script SQL fornecido é *perigoso* e *não deve ser usado em produção*. A forma correta seria adicionar um hint à consulta:\n> \n>     ```sql\n>     EXPLAIN ANALYZE SELECT /*+ NO_HASHJOIN(m e) */ ... FROM movimentos m JOIN empresa e ON m.codigo_empresa = e.codigo_empresa;\n>     ```\n>     (Note que a sintaxe exata do hint pode variar dependendo da versão do PostgreSQL e de extensões instaladas, como o `pg_hint_plan`).\n> \n> **5. Utilização de BLOOM Filter**\n> \n> *   **Avaliação:** A utilização de BLOOM filters pode ser interessante em alguns cenários específicos, como na otimização de buscas em colunas com alta cardinalidade. A proposta identifica corretamente as vantagens e desvantagens, incluindo a possibilidade de falsos positivos.\n> *   **Observações:**\n>     *   BLOOM filters são mais eficazes quando a coluna indexada é usada em filtros de igualdade (`WHERE coluna = valor`).\n>     *   O parâmetro `length` no `CREATE INDEX` controla o tamanho do filtro e, portanto, a probabilidade de falsos positivos. Um valor maior reduz a probabilidade de falsos positivos, mas aumenta o consumo de espaço.\n>     *   É fundamental testar o desempenho do BLOOM filter em um ambiente de homologação antes de implementá-lo em produção, pois ele pode não ser benéfico em todos os casos.\n> *   **Script SQL:** O script SQL fornecido está correto e implementa a criação do índice BLOOM.\n> \n> **Conclusões e Recomendações:**\n> \n> *   As otimizações propostas apresentam um bom ponto de partida para melhorar o desempenho da consulta em questão.\n> *   A criação de um índice na coluna `codigo_empresa` da tabela `movimentos` (Otimização 1) e a atualização das estatísticas (Otimização 2) são as otimizações mais seguras e recomendadas para começar.\n> *   O particionamento da tabela `movimentos` (Otimização 3) pode ser benéfico, mas requer um planejamento cuidadoso e testes rigorosos.\n> *   **A Otimização 4 (Desabilitar Hash Join) é perigosa e o script SQL fornecido não deve ser utilizado.  Em vez disso, utilizar hints específicos na consulta para testar diferentes tipos de JOIN.**\n> *   A utilização de BLOOM filters (Otimização 5) pode ser interessante em alguns casos, mas requer testes para verificar se há ganho de desempenho.\n> \n> **Recomendações Adicionais:**\n> \n> *   Monitorar o desempenho das consultas após a implementação de cada otimização.\n> *   Utilizar ferramentas de monitoramento do PostgreSQL (como `pg_stat_statements`) para identificar consultas lentas e gargalos de desempenho.\n> *   Considerar a utilização de outras técnicas de otimização, como a otimização de consultas SQL, a normalização do esquema do banco de dados e o ajuste dos parâmetros de configuração do PostgreSQL.\n> \n> Este parecer técnico visa fornecer uma análise crítica das otimizações propostas, identificando pontos fortes e fracos, e oferecendo recomendações para a implementação segura e eficaz das melhorias.  É fundamental realizar testes em um ambiente de homologação antes de aplicar qualquer alteração em produção.\n> \n"
          },
          "metadata": {}
        },
        {
          "output_type": "stream",
          "name": "stdout",
          "text": [
            "--------------------------------------------------------------\n",
            "\n",
            "--- 📝 Resultado do Agente 4 (Revisor) ---\n",
            "\n"
          ]
        },
        {
          "output_type": "display_data",
          "data": {
            "text/plain": [
              "<IPython.core.display.Markdown object>"
            ],
            "text/markdown": "> A Otimização 4 (Desabilitar Hash Join) é perigosa e o script SQL fornecido não deve ser utilizado. Em vez disso, utilizar hints específicos na consulta para testar diferentes tipos de JOIN.\n"
          },
          "metadata": {}
        },
        {
          "output_type": "stream",
          "name": "stdout",
          "text": [
            "--------------------------------------------------------------\n"
          ]
        }
      ]
    }
  ]
}